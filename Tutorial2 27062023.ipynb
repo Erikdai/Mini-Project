{
 "cells": [
  {
   "cell_type": "markdown",
   "id": "165bedab",
   "metadata": {},
   "source": [
    "# Python fundamentals\n",
    "Learning outcomes:\n",
    "\n",
    "Python fundamentals: basic syntax, data types, data structures, custom function and Numpy module.\n",
    "\n",
    "Familiar with the creation of custom images.\n"
   ]
  },
  {
   "cell_type": "markdown",
   "id": "0f37a489",
   "metadata": {},
   "source": [
    "# Basic syntax"
   ]
  },
  {
   "cell_type": "code",
   "execution_count": 1,
   "id": "39ef1233",
   "metadata": {},
   "outputs": [
    {
     "name": "stdout",
     "output_type": "stream",
     "text": [
      "Hello World!\n"
     ]
    }
   ],
   "source": [
    "print(\"Hello World!\")\n",
    "#you can comment in codeblock using # at the front"
   ]
  },
  {
   "cell_type": "markdown",
   "id": "67262a43",
   "metadata": {},
   "source": [
    "# Custom function\n"
   ]
  },
  {
   "cell_type": "code",
   "execution_count": 3,
   "id": "aefffbc7",
   "metadata": {},
   "outputs": [],
   "source": [
    "def simple_add(x, y):\n",
    "    #It is a good practical to include docstring\n",
    "    \"\"\"Addition of 2 numbers\"\"\"\n",
    "    return(x+y)"
   ]
  },
  {
   "cell_type": "code",
   "execution_count": 4,
   "id": "e42a2ba7",
   "metadata": {},
   "outputs": [
    {
     "data": {
      "text/plain": [
       "11"
      ]
     },
     "execution_count": 4,
     "metadata": {},
     "output_type": "execute_result"
    }
   ],
   "source": [
    "simple_add(2, 9)\n"
   ]
  },
  {
   "cell_type": "markdown",
   "id": "3aada4d1",
   "metadata": {},
   "source": [
    "# Data types\n",
    "floating point numbers eg. float32 and float64\n",
    "\n",
    "complex number\n",
    "\n",
    "string\n",
    "\n",
    "integer\n"
   ]
  },
  {
   "cell_type": "code",
   "execution_count": 5,
   "id": "857d9aec",
   "metadata": {},
   "outputs": [
    {
     "name": "stdout",
     "output_type": "stream",
     "text": [
      "<class 'int'>\n",
      "<class 'float'>\n",
      "<class 'complex'>\n",
      "<class 'str'>\n"
     ]
    }
   ],
   "source": [
    "x = 5\n",
    "y =7.1\n",
    "z = 1j\n",
    "z1 = \"i am human\"\n",
    "\n",
    "print(type(x))\n",
    "print(type(y))\n",
    "print(type(z))\n",
    "print(type(z1))"
   ]
  },
  {
   "cell_type": "code",
   "execution_count": 9,
   "id": "b79e000d",
   "metadata": {},
   "outputs": [
    {
     "name": "stdout",
     "output_type": "stream",
     "text": [
      "0\n",
      "7.6\n"
     ]
    }
   ],
   "source": [
    "#we can do casting, specify the data type by these syntax, float(), int(), and str()\n",
    "y = 8/10\n",
    "z = \"7.6\"\n",
    "\n",
    "print(int(y))\n",
    "print(float(z))\n"
   ]
  },
  {
   "cell_type": "markdown",
   "id": "8e55d0a7",
   "metadata": {},
   "source": [
    "# Data structures (native to Python)\n",
    "List and tuple\n",
    "\n",
    "List and tuple are both variables that can store multiple items. The major differences between the 2 are:\n",
    "\n",
    "Elements in list is enclosed with square brackets, while tuple is written with parentheses.\n",
    "\n",
    "List is changeable, while tuple is unchangeable."
   ]
  },
  {
   "cell_type": "code",
   "execution_count": 12,
   "id": "3455dcf3",
   "metadata": {},
   "outputs": [
    {
     "name": "stdout",
     "output_type": "stream",
     "text": [
      "['a', 'b', 'c']\n",
      "('a', 'b', 'c')\n"
     ]
    }
   ],
   "source": [
    "mylist = [\"a\", \"b\", \"c\"]\n",
    "print(mylist)\n",
    "\n",
    "mytuple = (\"a\", \"b\", \"c\")\n",
    "print(mytuple)"
   ]
  },
  {
   "cell_type": "code",
   "execution_count": 13,
   "id": "60d8c3f2",
   "metadata": {},
   "outputs": [
    {
     "name": "stdout",
     "output_type": "stream",
     "text": [
      "[1, 'b', 'c']\n"
     ]
    }
   ],
   "source": [
    "mylist[0] = 1\n",
    "print(mylist)"
   ]
  },
  {
   "cell_type": "code",
   "execution_count": 14,
   "id": "cea01730",
   "metadata": {},
   "outputs": [
    {
     "name": "stdout",
     "output_type": "stream",
     "text": [
      "Tuple is immutable\n"
     ]
    }
   ],
   "source": [
    "try:\n",
    "    mytuple[0] = 1\n",
    "except:\n",
    "    print(\"Tuple is immutable\")"
   ]
  },
  {
   "cell_type": "markdown",
   "id": "bc081aaf",
   "metadata": {},
   "source": [
    "# Numpy module\n",
    "Numpy is a Python module used for working with arrays. Numpy provides array object that is faster than Python lists. This is due to locality of reference. NumPy arrays are stored at one continuous place in memory unlike lists, so processes can access and manipulate them very efficiently."
   ]
  },
  {
   "cell_type": "code",
   "execution_count": 15,
   "id": "16ec0d52",
   "metadata": {},
   "outputs": [],
   "source": [
    "import numpy as np"
   ]
  },
  {
   "cell_type": "markdown",
   "id": "54fcd1a7",
   "metadata": {},
   "source": [
    "Create Numpy array\n"
   ]
  },
  {
   "cell_type": "code",
   "execution_count": 16,
   "id": "02a0a0a1",
   "metadata": {},
   "outputs": [
    {
     "name": "stdout",
     "output_type": "stream",
     "text": [
      "[1 2 3 4 5]\n",
      "<class 'numpy.ndarray'>\n"
     ]
    }
   ],
   "source": [
    "x = np.array([1, 2, 3, 4, 5])\n",
    "print(x)\n",
    "print(type(x))\n"
   ]
  },
  {
   "cell_type": "markdown",
   "id": "22327589",
   "metadata": {},
   "source": [
    "Array indexing"
   ]
  },
  {
   "cell_type": "code",
   "execution_count": 18,
   "id": "02be6068",
   "metadata": {},
   "outputs": [
    {
     "name": "stdout",
     "output_type": "stream",
     "text": [
      "1\n",
      "5\n"
     ]
    }
   ],
   "source": [
    "# Lets access the first and last element of x\n",
    "print(x[0])\n",
    "print(x[-1])"
   ]
  },
  {
   "cell_type": "code",
   "execution_count": 19,
   "id": "71948ca7",
   "metadata": {},
   "outputs": [
    {
     "name": "stdout",
     "output_type": "stream",
     "text": [
      "[ 1  2  3  4  5  6  7  8  9 10]\n"
     ]
    }
   ],
   "source": [
    "x1 = np.array([6, 7, 8, 9, 10])\n",
    "x_long = np.concatenate((x, x1), axis=None)\n",
    "print(x_long)"
   ]
  },
  {
   "cell_type": "markdown",
   "id": "b3f9e76d",
   "metadata": {},
   "source": [
    "A numpy.ndarray is a generic multidimensional container for homogeneous data, i.e. all the elements must be of the same data type. Every array has a shape, which is expressed as tuple, indicating the size of each dimension as well as a dtype, an object describing the data type of the array."
   ]
  },
  {
   "cell_type": "code",
   "execution_count": 20,
   "id": "1720e3f9",
   "metadata": {},
   "outputs": [
    {
     "name": "stdout",
     "output_type": "stream",
     "text": [
      "The shape of variable x_long: (10,)\n",
      "int32\n"
     ]
    }
   ],
   "source": [
    "print(f\"The shape of variable x_long: {x_long.shape}\")\n",
    "print(x_long.dtype)"
   ]
  },
  {
   "cell_type": "markdown",
   "id": "17092e4d",
   "metadata": {},
   "source": [
    "# Custom image using Numpy"
   ]
  },
  {
   "cell_type": "markdown",
   "id": "a965a899",
   "metadata": {},
   "source": [
    "Now that you have some basic understanding of the data structure of digital image, lets try to create a custom image with the help of Numpy library."
   ]
  },
  {
   "cell_type": "code",
   "execution_count": 21,
   "id": "d6a2d012",
   "metadata": {},
   "outputs": [],
   "source": [
    "import matplotlib.pyplot as plt"
   ]
  },
  {
   "cell_type": "code",
   "execution_count": 24,
   "id": "e3db4363",
   "metadata": {},
   "outputs": [
    {
     "data": {
      "image/png": "[encoded data removed]",
      "text/plain": [
       "<Figure size 640x480 with 1 Axes>"
      ]
     },
     "metadata": {},
     "output_type": "display_data"
    }
   ],
   "source": [
    "# Create a dark grayscale image (2D array)\n",
    "gray = np.zeros((200, 200), dtype=\"uint8\")\n",
    "plt.imshow(gray, cmap = plt.cm.gray)\n",
    "plt.title(\"grayscale black image\")\n",
    "plt.xticks([]), plt.yticks([])\n",
    "plt.show()"
   ]
  },
  {
   "cell_type": "code",
   "execution_count": 25,
   "id": "af7ea55d",
   "metadata": {},
   "outputs": [
    {
     "data": {
      "image/png": "[encoded data removed]",
      "text/plain": [
       "<Figure size 640x480 with 1 Axes>"
      ]
     },
     "metadata": {},
     "output_type": "display_data"
    }
   ],
   "source": [
    "white = 255 * np.ones((200, 200))\n",
    "white = np.uint8(white)\n",
    "\n",
    "plt.imshow(white, cmap = plt.cm.gray, vmin = 0, vmax = 255)\n",
    "plt.xticks([]), plt.yticks([])\n",
    "plt.show()"
   ]
  },
  {
   "cell_type": "code",
   "execution_count": 26,
   "id": "28bbfe5e",
   "metadata": {},
   "outputs": [
    {
     "data": {
      "image/png": "[encoded data removed]",
      "text/plain": [
       "<Figure size 640x480 with 1 Axes>"
      ]
     },
     "metadata": {},
     "output_type": "display_data"
    }
   ],
   "source": [
    "# Next, lets create random color image\n",
    "noise_color_img = np.random.randint(0, high=256, size = (100, 100, 3), dtype=np.uint8)\n",
    "\n",
    "plt.imshow(noise_color_img)\n",
    "plt.title(\"random noise color image\")\n",
    "plt.xticks([]), plt.yticks([])\n",
    "plt.show()"
   ]
  },
  {
   "cell_type": "markdown",
   "id": "133efd81",
   "metadata": {},
   "source": [
    "# Exercises\n",
    "1.Try to write a simple custom function to determine whether a given integer is odd or even number."
   ]
  },
  {
   "cell_type": "code",
   "execution_count": 12,
   "id": "4d2bfdab",
   "metadata": {},
   "outputs": [],
   "source": [
    "def even_or_odd(num):\n",
    "    if num == 0:\n",
    "        return(\"num is zero\")\n",
    "    elif num % 2 == 0:\n",
    "        return (\"num is odd\")\n",
    "    else :\n",
    "        return (\"num is even\")\n"
   ]
  },
  {
   "cell_type": "code",
   "execution_count": 13,
   "id": "8bb38e68",
   "metadata": {},
   "outputs": [
    {
     "data": {
      "text/plain": [
       "'num is even'"
      ]
     },
     "execution_count": 13,
     "metadata": {},
     "output_type": "execute_result"
    }
   ],
   "source": [
    "even_or_odd(11)"
   ]
  },
  {
   "cell_type": "markdown",
   "id": "27cdd3b3",
   "metadata": {},
   "source": [
    "2.Write a simple example code to show that Numpy is more efficient in numerical computation of large arrays of data than equivalent Python list."
   ]
  },
  {
   "cell_type": "code",
   "execution_count": 15,
   "id": "b3faf3f5",
   "metadata": {},
   "outputs": [
    {
     "name": "stdout",
     "output_type": "stream",
     "text": [
      "Execution time using NumPy: 0.014496088027954102\n",
      "Execution time using Python list: 0.4077942371368408\n"
     ]
    }
   ],
   "source": [
    "import numpy as np\n",
    "import time\n",
    "\n",
    "# Using NumPy\n",
    "start_time = time.time()\n",
    "np_array = np.arange(1, 10**7)  # Create a NumPy array of size 10 million\n",
    "result_np = np.sum(np_array)    # Perform sum operation using NumPy\n",
    "end_time = time.time()\n",
    "execution_time_np = end_time - start_time\n",
    "\n",
    "# Using Python list\n",
    "start_time = time.time()\n",
    "py_list = list(range(1, 10**7))  # Create a Python list of size 10 million\n",
    "result_list = sum(py_list)       # Perform sum operation using Python list\n",
    "end_time = time.time()\n",
    "execution_time_list = end_time - start_time\n",
    "\n",
    "# Compare execution times\n",
    "print(\"Execution time using NumPy:\", execution_time_np)\n",
    "print(\"Execution time using Python list:\", execution_time_list)"
   ]
  },
  {
   "cell_type": "markdown",
   "id": "35efde4f",
   "metadata": {},
   "source": [
    "3.Run the following codes:"
   ]
  },
  {
   "cell_type": "code",
   "execution_count": 20,
   "id": "c2656b7e",
   "metadata": {},
   "outputs": [
    {
     "name": "stdout",
     "output_type": "stream",
     "text": [
      "[0 1 2 3 4 5 6 7 8 9]\n",
      "[ 0  1  2  3 25 25 25  7  8  9]\n",
      "[-1 25 25]\n",
      "[ 0  1  2  3 -1 25 25  7  8  9]\n"
     ]
    }
   ],
   "source": [
    "import numpy as np\n",
    "\n",
    "my_arr = np.arange(10)\n",
    "print(my_arr)\n",
    "my_arr[4:7] = 25\n",
    "print(my_arr)\n",
    "arr_slice = my_arr[4:7]\n",
    "\n",
    "# Change the first element of arr_slice to -1\n",
    "arr_slice[0] = -1\n",
    "\n",
    "print(arr_slice)\n",
    "print(my_arr)"
   ]
  },
  {
   "cell_type": "markdown",
   "id": "390c743a",
   "metadata": {},
   "source": [
    "What do you notice? Propose a way to reassign arr_slice with new value without modifying my_arr."
   ]
  },
  {
   "cell_type": "code",
   "execution_count": 16,
   "id": "962739b9",
   "metadata": {},
   "outputs": [
    {
     "name": "stdout",
     "output_type": "stream",
     "text": [
      "[0 1 2 3 4 5 6 7 8 9]\n",
      "[ 0  1  2  3 25 25 25  7  8  9]\n",
      "[-1 25 25]\n",
      "[ 0  1  2  3 25 25 25  7  8  9]\n"
     ]
    }
   ],
   "source": [
    "import numpy as np\n",
    "\n",
    "my_arr = np.arange(10)\n",
    "print(my_arr)\n",
    "my_arr[4:7] = 25\n",
    "print(my_arr)\n",
    "arr_slice = my_arr[4:7].copy()\n",
    "arr_slice[0] = -1\n",
    "\n",
    "print(arr_slice)\n",
    "print(my_arr)"
   ]
  },
  {
   "cell_type": "markdown",
   "id": "44ac223c",
   "metadata": {},
   "source": [
    "4.Create an image as shown as the following with the help of Numpy and matplotlib modules. You can arbitrarily set the dimension of the image and white circular spot at the middle."
   ]
  },
  {
   "cell_type": "code",
   "execution_count": 21,
   "id": "c0011158",
   "metadata": {},
   "outputs": [
    {
     "data": {
      "image/png": "[encoded data removed]",
      "text/plain": [
       "<Figure size 640x480 with 1 Axes>"
      ]
     },
     "metadata": {},
     "output_type": "display_data"
    }
   ],
   "source": [
    "import numpy as np\n",
    "import matplotlib.pyplot as plt\n",
    "\n",
    "# Set image dimensions\n",
    "image_size = 200\n",
    "center_x = image_size // 2\n",
    "center_y = image_size // 2\n",
    "radius = image_size // 4\n",
    "\n",
    "# Create a grid of coordinates\n",
    "x, y = np.ogrid[:image_size, :image_size]\n",
    "\n",
    "# Create a black image\n",
    "image = np.zeros((image_size, image_size))\n",
    "\n",
    "# Create a circular spot at the center\n",
    "mask = (x - center_x) ** 2 + (y - center_y) ** 2 <= radius ** 2\n",
    "image[mask] = 255  # Set the circular spot to white\n",
    "\n",
    "# Display the image\n",
    "plt.imshow(image, cmap='gray')\n",
    "plt.axis('off')\n",
    "plt.show()\n"
   ]
  }
 ],
 "metadata": {
  "kernelspec": {
   "display_name": "Python 3 (ipykernel)",
   "language": "python",
   "name": "python3"
  },
  "language_info": {
   "codemirror_mode": {
    "name": "ipython",
    "version": 3
   },
   "file_extension": ".py",
   "mimetype": "text/x-python",
   "name": "python",
   "nbconvert_exporter": "python",
   "pygments_lexer": "ipython3",
   "version": "3.11.4"
  }
 },
 "nbformat": 4,
 "nbformat_minor": 5
}
